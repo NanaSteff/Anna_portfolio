{
 "cells": [
  {
   "cell_type": "code",
   "execution_count": 1,
   "id": "2ff492c9",
   "metadata": {},
   "outputs": [],
   "source": [
    "import turtle\n",
    "\n",
    "# Créer une fenêtre pour dessiner\n",
    "window = turtle.Screen()\n",
    "\n",
    "# Créer une tortue pour dessiner\n",
    "tortue = turtle.Turtle()\n",
    "\n",
    "# Dessiner la chaîne\n",
    "tortue.penup()\n",
    "tortue.goto(-100, 0)\n",
    "tortue.pendown()\n",
    "tortue.forward(80)\n",
    "tortue.right(90)\n",
    "tortue.forward(40)\n",
    "tortue.right(90)\n",
    "tortue.forward(40)\n",
    "tortue.left(90)\n",
    "tortue.forward(40)\n",
    "tortue.right(90)\n",
    "tortue.forward(40)\n",
    "tortue.right(90)\n",
    "tortue.forward(80)\n",
    "\n",
    "# Fermer la fenêtre quand on clique dessus\n",
    "window.exitonclick()"
   ]
  },
  {
   "cell_type": "code",
   "execution_count": null,
   "id": "5d4524e2",
   "metadata": {},
   "outputs": [],
   "source": []
  }
 ],
 "metadata": {
  "kernelspec": {
   "display_name": "Python 3 (ipykernel)",
   "language": "python",
   "name": "python3"
  },
  "language_info": {
   "codemirror_mode": {
    "name": "ipython",
    "version": 3
   },
   "file_extension": ".py",
   "mimetype": "text/x-python",
   "name": "python",
   "nbconvert_exporter": "python",
   "pygments_lexer": "ipython3",
   "version": "3.10.6"
  }
 },
 "nbformat": 4,
 "nbformat_minor": 5
}
